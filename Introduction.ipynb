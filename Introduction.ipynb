{
    "cells": [
        {
            "cell_type": "markdown",
            "metadata": {},
            "source": "# Introduction/Business Problem"
        },
        {
            "cell_type": "markdown",
            "metadata": {},
            "source": "### The year 2020 has been announced as tourism year for Nepal. It has started tourism campaign VisitNepal2020. The Government of Nepal has been working and encourages every citizen to promote the campaign. The objective of this campaign is to promote Nepal's culture, traditions and natural beauty to the world by calling foreign visitors to explore Nepal. \n\n### Nepal is known for one of the best valued destinations in the world. It is landlocked country and Kathmandu is the capital city. Its natural beauty, spectacular Himalayan ranges and diversified culture and traditions are obvious reasons that has been making this small beautiful country been visited by many foreigners. Nepal is land of Mount Everest, highest mountain peak of the world. The people from different countries visits here to explore and climb the mountains. Nepal is rich in cultural heritages and has many ancient temples and monasteries. There are 7 UNESCO World Heritage sites including Bhaktapur Durbar Square and Lumbini, birthplace of Gautam Buddha. Nepal boasts a wide range of animals and plants, some found just in Nepal. Nepal has 852 species of birds and bird watching has evolved into a sought-out activity of tourists. Nepal also homes several endangered species such as the Bengal Tiger, One Horned Rhinoceros, Bengal Fox, Red Panda and the elusive Snow Leopard. Nepal is also the best place for recreational activities and water sports like rafting, bungy jumping, rock climbing, paragliding, hiking and camping. Pokhara and Kathmandu are one of the best places in Nepal where many tourists visits and can enjoy different recreational activities. Pokhara lies in Western part of Nepal and takes 25 minutes of air travel from the capital, Kathmandu. The place is also hub for hiking and mountain climbing. In Pokhara and Kathmandu, the visitors will see many restaurants and hotels offering wide range of services. Eatery is also the main business of this place and there are large numbers of it providing local Nepali food, continental, Japanese, Indian, Thailand, Chinese and different cuisines. Nepali dishes are unique itself as it comes with different side dishes. Here in this project, I am focusing on eateries in Kathmandu. What if the tourists love to visit the restaurants that serves Chinese food?\n\n### The problem here I am presenting is that many tourists might want to have Chinese food during their visit in Kathmandu. This project will to find restaurants in Kathmandu that serves Chinese food by using location data.\n"
        },
        {
            "cell_type": "code",
            "execution_count": null,
            "metadata": {},
            "outputs": [],
            "source": ""
        }
    ],
    "metadata": {
        "kernelspec": {
            "display_name": "Python 3",
            "language": "python",
            "name": "python3"
        },
        "language_info": {
            "codemirror_mode": {
                "name": "ipython",
                "version": 3
            },
            "file_extension": ".py",
            "mimetype": "text/x-python",
            "name": "python",
            "nbconvert_exporter": "python",
            "pygments_lexer": "ipython3",
            "version": "3.7.4"
        }
    },
    "nbformat": 4,
    "nbformat_minor": 2
}